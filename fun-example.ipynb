{
 "cells": [
  {
   "cell_type": "markdown",
   "id": "58e8ce44-0af7-4ada-84e5-fd39fb3991ab",
   "metadata": {},
   "source": [
    "# The Problem"
   ]
  },
  {
   "cell_type": "markdown",
   "id": "807976b1-2559-4e35-b40e-7ba8a8bd83b9",
   "metadata": {},
   "source": [
    "We are a librarian tasked with identifying waste in spending on expensive databases. We want to ensure that we only remove databases that have low quantity of uses with high quantity of ILL uses. We have data in two separatae csv files (generated here as a dictionary). Main is the main database that indicates local users accessing specific journals. ILL is the ILL csv file that indicates the frequency of that journal being ILLed. If users need to ILL a journal with a high frequency and are not able to leverage a local purchase of it to fill their needs, then we can presume that the payment for that journal is unnecessary. Our goal is to find the journals that have the highest percentage of non-use."
   ]
  },
  {
   "cell_type": "code",
   "execution_count": 3,
   "id": "bb91ef2d-d6e5-4ad6-b793-d31c62655144",
   "metadata": {},
   "outputs": [],
   "source": [
    "import pandas as pd"
   ]
  },
  {
   "cell_type": "code",
   "execution_count": 4,
   "id": "acebe47f-d91c-4155-a171-9a2256bedc77",
   "metadata": {},
   "outputs": [],
   "source": [
    "data_main = {\"journal\":[\"Anthropology Weekly\", \"History Monthly\", \"Science Quarterly\", \"Zoology Today\"], \"quantity\": [18, 20, 200, 700]}\n",
    "data_ill = {\"journal\":[\"Anthropology Weekly\", \"History Monthly\", \"Zoology Today\"], \"quantity\": [2, 500, 1000]}"
   ]
  },
  {
   "cell_type": "code",
   "execution_count": 5,
   "id": "92d352bc-db7b-4bfd-9b16-ea1acf306f7e",
   "metadata": {},
   "outputs": [
    {
     "data": {
      "text/html": [
       "<div>\n",
       "<style scoped>\n",
       "    .dataframe tbody tr th:only-of-type {\n",
       "        vertical-align: middle;\n",
       "    }\n",
       "\n",
       "    .dataframe tbody tr th {\n",
       "        vertical-align: top;\n",
       "    }\n",
       "\n",
       "    .dataframe thead th {\n",
       "        text-align: right;\n",
       "    }\n",
       "</style>\n",
       "<table border=\"1\" class=\"dataframe\">\n",
       "  <thead>\n",
       "    <tr style=\"text-align: right;\">\n",
       "      <th></th>\n",
       "      <th>journal</th>\n",
       "      <th>quantity</th>\n",
       "    </tr>\n",
       "  </thead>\n",
       "  <tbody>\n",
       "    <tr>\n",
       "      <th>0</th>\n",
       "      <td>Anthropology Weekly</td>\n",
       "      <td>18</td>\n",
       "    </tr>\n",
       "    <tr>\n",
       "      <th>1</th>\n",
       "      <td>History Monthly</td>\n",
       "      <td>20</td>\n",
       "    </tr>\n",
       "    <tr>\n",
       "      <th>2</th>\n",
       "      <td>Science Quarterly</td>\n",
       "      <td>200</td>\n",
       "    </tr>\n",
       "    <tr>\n",
       "      <th>3</th>\n",
       "      <td>Zoology Today</td>\n",
       "      <td>700</td>\n",
       "    </tr>\n",
       "  </tbody>\n",
       "</table>\n",
       "</div>"
      ],
      "text/plain": [
       "               journal  quantity\n",
       "0  Anthropology Weekly        18\n",
       "1      History Monthly        20\n",
       "2    Science Quarterly       200\n",
       "3        Zoology Today       700"
      ]
     },
     "execution_count": 5,
     "metadata": {},
     "output_type": "execute_result"
    }
   ],
   "source": [
    "df_main = pd.DataFrame(data_main)\n",
    "df_main"
   ]
  },
  {
   "cell_type": "code",
   "execution_count": 6,
   "id": "7edeb1f5-cf90-4b37-8cd6-6c8e238331c8",
   "metadata": {},
   "outputs": [
    {
     "data": {
      "text/html": [
       "<div>\n",
       "<style scoped>\n",
       "    .dataframe tbody tr th:only-of-type {\n",
       "        vertical-align: middle;\n",
       "    }\n",
       "\n",
       "    .dataframe tbody tr th {\n",
       "        vertical-align: top;\n",
       "    }\n",
       "\n",
       "    .dataframe thead th {\n",
       "        text-align: right;\n",
       "    }\n",
       "</style>\n",
       "<table border=\"1\" class=\"dataframe\">\n",
       "  <thead>\n",
       "    <tr style=\"text-align: right;\">\n",
       "      <th></th>\n",
       "      <th>journal</th>\n",
       "      <th>quantity</th>\n",
       "    </tr>\n",
       "  </thead>\n",
       "  <tbody>\n",
       "    <tr>\n",
       "      <th>0</th>\n",
       "      <td>Anthropology Weekly</td>\n",
       "      <td>2</td>\n",
       "    </tr>\n",
       "    <tr>\n",
       "      <th>1</th>\n",
       "      <td>History Monthly</td>\n",
       "      <td>500</td>\n",
       "    </tr>\n",
       "    <tr>\n",
       "      <th>2</th>\n",
       "      <td>Zoology Today</td>\n",
       "      <td>1000</td>\n",
       "    </tr>\n",
       "  </tbody>\n",
       "</table>\n",
       "</div>"
      ],
      "text/plain": [
       "               journal  quantity\n",
       "0  Anthropology Weekly         2\n",
       "1      History Monthly       500\n",
       "2        Zoology Today      1000"
      ]
     },
     "execution_count": 6,
     "metadata": {},
     "output_type": "execute_result"
    }
   ],
   "source": [
    "df_ill = pd.DataFrame(data_ill)\n",
    "df_ill"
   ]
  },
  {
   "cell_type": "markdown",
   "id": "b6a55e96-621b-4707-99b8-2a5f47b406c5",
   "metadata": {},
   "source": [
    "# The Solution outside of Pandas"
   ]
  },
  {
   "cell_type": "markdown",
   "id": "6bf1fdd8-270a-4252-8a25-121558286571",
   "metadata": {},
   "source": [
    "## Identify the Areas of Overlap"
   ]
  },
  {
   "cell_type": "code",
   "execution_count": 7,
   "id": "33b370ef-8846-499c-9d73-d0c5452b71a3",
   "metadata": {},
   "outputs": [],
   "source": [
    "main_journals = df_main.journal.tolist()\n",
    "ill_journals = df_ill.journal.tolist()"
   ]
  },
  {
   "cell_type": "code",
   "execution_count": 8,
   "id": "9f8a3075-1b91-4493-9319-0c5b0935be22",
   "metadata": {},
   "outputs": [
    {
     "name": "stdout",
     "output_type": "stream",
     "text": [
      "{'Zoology Today', 'Anthropology Weekly', 'History Monthly'}\n"
     ]
    }
   ],
   "source": [
    "overlap = set(main_journals).intersection(ill_journals)\n",
    "print(overlap)"
   ]
  },
  {
   "cell_type": "markdown",
   "id": "a6c44040-c1ca-4a60-9fb7-8a74778b7e83",
   "metadata": {},
   "source": [
    "## Isolate the Rows that are Important for Each DataFrame"
   ]
  },
  {
   "cell_type": "code",
   "execution_count": 13,
   "id": "65774272-2dbc-480f-82a1-0e395f44533e",
   "metadata": {},
   "outputs": [
    {
     "name": "stdout",
     "output_type": "stream",
     "text": [
      "Zoology Today\n",
      "Anthropology Weekly\n",
      "History Monthly\n"
     ]
    }
   ],
   "source": [
    "data = {\"journal\": [], \"quantity\": [], \"ill_quantity\": []}\n",
    "final_main = pd.DataFrame(data)\n",
    "for o in overlap:\n",
    "    print(o)\n",
    "    for index, row in df_main.iterrows():      \n",
    "        if row[\"journal\"] == o:\n",
    "            row['ill_quantity'] = None\n",
    "            final_main = final_main.append(row, ignore_index=True)\n",
    "    for index, row in df_ill.iterrows():\n",
    "        if row[\"journal\"] == o:\n",
    "            for index2, row2 in final_main.iterrows():\n",
    "                if row2['journal'] == o:\n",
    "                    final_main.loc[index2, 'ill_quantity'] = row['quantity']"
   ]
  },
  {
   "cell_type": "code",
   "execution_count": 14,
   "id": "18e7b377-0e88-473b-971f-dfe2ae69101b",
   "metadata": {},
   "outputs": [
    {
     "data": {
      "text/html": [
       "<div>\n",
       "<style scoped>\n",
       "    .dataframe tbody tr th:only-of-type {\n",
       "        vertical-align: middle;\n",
       "    }\n",
       "\n",
       "    .dataframe tbody tr th {\n",
       "        vertical-align: top;\n",
       "    }\n",
       "\n",
       "    .dataframe thead th {\n",
       "        text-align: right;\n",
       "    }\n",
       "</style>\n",
       "<table border=\"1\" class=\"dataframe\">\n",
       "  <thead>\n",
       "    <tr style=\"text-align: right;\">\n",
       "      <th></th>\n",
       "      <th>journal</th>\n",
       "      <th>quantity</th>\n",
       "      <th>ill_quantity</th>\n",
       "    </tr>\n",
       "  </thead>\n",
       "  <tbody>\n",
       "    <tr>\n",
       "      <th>0</th>\n",
       "      <td>Zoology Today</td>\n",
       "      <td>700.0</td>\n",
       "      <td>1000</td>\n",
       "    </tr>\n",
       "    <tr>\n",
       "      <th>1</th>\n",
       "      <td>Anthropology Weekly</td>\n",
       "      <td>18.0</td>\n",
       "      <td>2</td>\n",
       "    </tr>\n",
       "    <tr>\n",
       "      <th>2</th>\n",
       "      <td>History Monthly</td>\n",
       "      <td>20.0</td>\n",
       "      <td>500</td>\n",
       "    </tr>\n",
       "  </tbody>\n",
       "</table>\n",
       "</div>"
      ],
      "text/plain": [
       "               journal  quantity ill_quantity\n",
       "0        Zoology Today     700.0         1000\n",
       "1  Anthropology Weekly      18.0            2\n",
       "2      History Monthly      20.0          500"
      ]
     },
     "execution_count": 14,
     "metadata": {},
     "output_type": "execute_result"
    }
   ],
   "source": [
    "final_main"
   ]
  },
  {
   "cell_type": "markdown",
   "id": "cd1ed8d2-4a27-4377-8f4c-e095d87d4f92",
   "metadata": {},
   "source": [
    "## Calculate the Ratio"
   ]
  },
  {
   "cell_type": "code",
   "execution_count": 15,
   "id": "438ccb40-ee29-448b-b16b-12fd7298d46f",
   "metadata": {},
   "outputs": [],
   "source": [
    "final_main[\"result\"] = final_main[\"quantity\"]/final_main[\"ill_quantity\"]"
   ]
  },
  {
   "cell_type": "code",
   "execution_count": 16,
   "id": "b6b6ccb6-c878-4932-a035-54f71619fbce",
   "metadata": {},
   "outputs": [
    {
     "data": {
      "text/html": [
       "<div>\n",
       "<style scoped>\n",
       "    .dataframe tbody tr th:only-of-type {\n",
       "        vertical-align: middle;\n",
       "    }\n",
       "\n",
       "    .dataframe tbody tr th {\n",
       "        vertical-align: top;\n",
       "    }\n",
       "\n",
       "    .dataframe thead th {\n",
       "        text-align: right;\n",
       "    }\n",
       "</style>\n",
       "<table border=\"1\" class=\"dataframe\">\n",
       "  <thead>\n",
       "    <tr style=\"text-align: right;\">\n",
       "      <th></th>\n",
       "      <th>journal</th>\n",
       "      <th>quantity</th>\n",
       "      <th>ill_quantity</th>\n",
       "      <th>result</th>\n",
       "    </tr>\n",
       "  </thead>\n",
       "  <tbody>\n",
       "    <tr>\n",
       "      <th>0</th>\n",
       "      <td>Zoology Today</td>\n",
       "      <td>700.0</td>\n",
       "      <td>1000</td>\n",
       "      <td>0.7</td>\n",
       "    </tr>\n",
       "    <tr>\n",
       "      <th>1</th>\n",
       "      <td>Anthropology Weekly</td>\n",
       "      <td>18.0</td>\n",
       "      <td>2</td>\n",
       "      <td>9.0</td>\n",
       "    </tr>\n",
       "    <tr>\n",
       "      <th>2</th>\n",
       "      <td>History Monthly</td>\n",
       "      <td>20.0</td>\n",
       "      <td>500</td>\n",
       "      <td>0.04</td>\n",
       "    </tr>\n",
       "  </tbody>\n",
       "</table>\n",
       "</div>"
      ],
      "text/plain": [
       "               journal  quantity ill_quantity result\n",
       "0        Zoology Today     700.0         1000    0.7\n",
       "1  Anthropology Weekly      18.0            2    9.0\n",
       "2      History Monthly      20.0          500   0.04"
      ]
     },
     "execution_count": 16,
     "metadata": {},
     "output_type": "execute_result"
    }
   ],
   "source": [
    "final_main"
   ]
  },
  {
   "cell_type": "markdown",
   "id": "d0920e66-448c-4af3-bd2e-b4cc130087d3",
   "metadata": {},
   "source": [
    "## Organize the Data so that the Lowest Percentage Items are Highest"
   ]
  },
  {
   "cell_type": "code",
   "execution_count": 17,
   "id": "b7e8a711-4c64-466f-ad17-4c011bd2b535",
   "metadata": {},
   "outputs": [
    {
     "data": {
      "text/html": [
       "<div>\n",
       "<style scoped>\n",
       "    .dataframe tbody tr th:only-of-type {\n",
       "        vertical-align: middle;\n",
       "    }\n",
       "\n",
       "    .dataframe tbody tr th {\n",
       "        vertical-align: top;\n",
       "    }\n",
       "\n",
       "    .dataframe thead th {\n",
       "        text-align: right;\n",
       "    }\n",
       "</style>\n",
       "<table border=\"1\" class=\"dataframe\">\n",
       "  <thead>\n",
       "    <tr style=\"text-align: right;\">\n",
       "      <th></th>\n",
       "      <th>journal</th>\n",
       "      <th>quantity</th>\n",
       "      <th>ill_quantity</th>\n",
       "      <th>result</th>\n",
       "    </tr>\n",
       "  </thead>\n",
       "  <tbody>\n",
       "    <tr>\n",
       "      <th>2</th>\n",
       "      <td>History Monthly</td>\n",
       "      <td>20.0</td>\n",
       "      <td>500</td>\n",
       "      <td>0.04</td>\n",
       "    </tr>\n",
       "    <tr>\n",
       "      <th>0</th>\n",
       "      <td>Zoology Today</td>\n",
       "      <td>700.0</td>\n",
       "      <td>1000</td>\n",
       "      <td>0.7</td>\n",
       "    </tr>\n",
       "    <tr>\n",
       "      <th>1</th>\n",
       "      <td>Anthropology Weekly</td>\n",
       "      <td>18.0</td>\n",
       "      <td>2</td>\n",
       "      <td>9.0</td>\n",
       "    </tr>\n",
       "  </tbody>\n",
       "</table>\n",
       "</div>"
      ],
      "text/plain": [
       "               journal  quantity ill_quantity result\n",
       "2      History Monthly      20.0          500   0.04\n",
       "0        Zoology Today     700.0         1000    0.7\n",
       "1  Anthropology Weekly      18.0            2    9.0"
      ]
     },
     "execution_count": 17,
     "metadata": {},
     "output_type": "execute_result"
    }
   ],
   "source": [
    "final_main.sort_values(\"result\")"
   ]
  },
  {
   "cell_type": "markdown",
   "id": "018fa485-ab12-497e-be10-32f93af6330c",
   "metadata": {},
   "source": [
    "# Solution with Pandas"
   ]
  },
  {
   "cell_type": "code",
   "execution_count": 18,
   "id": "eabb1687-c57a-48a3-ad52-4e9ab92c805e",
   "metadata": {},
   "outputs": [
    {
     "data": {
      "text/html": [
       "<div>\n",
       "<style scoped>\n",
       "    .dataframe tbody tr th:only-of-type {\n",
       "        vertical-align: middle;\n",
       "    }\n",
       "\n",
       "    .dataframe tbody tr th {\n",
       "        vertical-align: top;\n",
       "    }\n",
       "\n",
       "    .dataframe thead th {\n",
       "        text-align: right;\n",
       "    }\n",
       "</style>\n",
       "<table border=\"1\" class=\"dataframe\">\n",
       "  <thead>\n",
       "    <tr style=\"text-align: right;\">\n",
       "      <th></th>\n",
       "      <th>journal</th>\n",
       "      <th>quantity</th>\n",
       "    </tr>\n",
       "  </thead>\n",
       "  <tbody>\n",
       "    <tr>\n",
       "      <th>0</th>\n",
       "      <td>Anthropology Weekly</td>\n",
       "      <td>18</td>\n",
       "    </tr>\n",
       "    <tr>\n",
       "      <th>1</th>\n",
       "      <td>History Monthly</td>\n",
       "      <td>20</td>\n",
       "    </tr>\n",
       "    <tr>\n",
       "      <th>2</th>\n",
       "      <td>Science Quarterly</td>\n",
       "      <td>200</td>\n",
       "    </tr>\n",
       "    <tr>\n",
       "      <th>3</th>\n",
       "      <td>Zoology Today</td>\n",
       "      <td>700</td>\n",
       "    </tr>\n",
       "  </tbody>\n",
       "</table>\n",
       "</div>"
      ],
      "text/plain": [
       "               journal  quantity\n",
       "0  Anthropology Weekly        18\n",
       "1      History Monthly        20\n",
       "2    Science Quarterly       200\n",
       "3        Zoology Today       700"
      ]
     },
     "execution_count": 18,
     "metadata": {},
     "output_type": "execute_result"
    }
   ],
   "source": [
    "df_main"
   ]
  },
  {
   "cell_type": "code",
   "execution_count": 19,
   "id": "83858e83-df67-4c31-8829-93ed9261c277",
   "metadata": {},
   "outputs": [
    {
     "data": {
      "text/html": [
       "<div>\n",
       "<style scoped>\n",
       "    .dataframe tbody tr th:only-of-type {\n",
       "        vertical-align: middle;\n",
       "    }\n",
       "\n",
       "    .dataframe tbody tr th {\n",
       "        vertical-align: top;\n",
       "    }\n",
       "\n",
       "    .dataframe thead th {\n",
       "        text-align: right;\n",
       "    }\n",
       "</style>\n",
       "<table border=\"1\" class=\"dataframe\">\n",
       "  <thead>\n",
       "    <tr style=\"text-align: right;\">\n",
       "      <th></th>\n",
       "      <th>journal</th>\n",
       "      <th>quantity</th>\n",
       "    </tr>\n",
       "  </thead>\n",
       "  <tbody>\n",
       "    <tr>\n",
       "      <th>0</th>\n",
       "      <td>Anthropology Weekly</td>\n",
       "      <td>2</td>\n",
       "    </tr>\n",
       "    <tr>\n",
       "      <th>1</th>\n",
       "      <td>History Monthly</td>\n",
       "      <td>500</td>\n",
       "    </tr>\n",
       "    <tr>\n",
       "      <th>2</th>\n",
       "      <td>Zoology Today</td>\n",
       "      <td>1000</td>\n",
       "    </tr>\n",
       "  </tbody>\n",
       "</table>\n",
       "</div>"
      ],
      "text/plain": [
       "               journal  quantity\n",
       "0  Anthropology Weekly         2\n",
       "1      History Monthly       500\n",
       "2        Zoology Today      1000"
      ]
     },
     "execution_count": 19,
     "metadata": {},
     "output_type": "execute_result"
    }
   ],
   "source": [
    "df_ill"
   ]
  },
  {
   "cell_type": "markdown",
   "id": "5669b0b4-b05c-4d50-bcb2-474319bfd2ca",
   "metadata": {},
   "source": [
    "## Merge Pandas DataFrames"
   ]
  },
  {
   "cell_type": "code",
   "execution_count": 29,
   "id": "2be19635-3c2f-48f1-8435-e656e27d52b7",
   "metadata": {},
   "outputs": [
    {
     "data": {
      "text/html": [
       "<div>\n",
       "<style scoped>\n",
       "    .dataframe tbody tr th:only-of-type {\n",
       "        vertical-align: middle;\n",
       "    }\n",
       "\n",
       "    .dataframe tbody tr th {\n",
       "        vertical-align: top;\n",
       "    }\n",
       "\n",
       "    .dataframe thead th {\n",
       "        text-align: right;\n",
       "    }\n",
       "</style>\n",
       "<table border=\"1\" class=\"dataframe\">\n",
       "  <thead>\n",
       "    <tr style=\"text-align: right;\">\n",
       "      <th></th>\n",
       "      <th>journal</th>\n",
       "      <th>quantity_x</th>\n",
       "      <th>quantity_y</th>\n",
       "    </tr>\n",
       "  </thead>\n",
       "  <tbody>\n",
       "    <tr>\n",
       "      <th>0</th>\n",
       "      <td>Anthropology Weekly</td>\n",
       "      <td>18</td>\n",
       "      <td>2</td>\n",
       "    </tr>\n",
       "    <tr>\n",
       "      <th>1</th>\n",
       "      <td>History Monthly</td>\n",
       "      <td>20</td>\n",
       "      <td>500</td>\n",
       "    </tr>\n",
       "    <tr>\n",
       "      <th>2</th>\n",
       "      <td>Zoology Today</td>\n",
       "      <td>700</td>\n",
       "      <td>1000</td>\n",
       "    </tr>\n",
       "  </tbody>\n",
       "</table>\n",
       "</div>"
      ],
      "text/plain": [
       "               journal  quantity_x  quantity_y\n",
       "0  Anthropology Weekly          18           2\n",
       "1      History Monthly          20         500\n",
       "2        Zoology Today         700        1000"
      ]
     },
     "execution_count": 29,
     "metadata": {},
     "output_type": "execute_result"
    }
   ],
   "source": [
    "final_df = pd.merge(df_main, df_ill, how='inner', on=['journal'])\n",
    "final_df"
   ]
  },
  {
   "cell_type": "markdown",
   "id": "a80d7d8d-a734-4762-8dd5-81d8d80b4ffa",
   "metadata": {},
   "source": [
    "## Rename Columns and Clean"
   ]
  },
  {
   "cell_type": "code",
   "execution_count": 30,
   "id": "e873aa54-362b-4280-b96a-e77c9f7b9f74",
   "metadata": {},
   "outputs": [],
   "source": [
    "final_df.columns = [\"journal\", \"quantity\", \"ill_quantity\"]"
   ]
  },
  {
   "cell_type": "code",
   "execution_count": 34,
   "id": "3b4704ce-9774-4908-864d-fd730908f39b",
   "metadata": {},
   "outputs": [],
   "source": [
    "final_df[\"result\"] = final_df[\"quantity\"]/final_df[\"ill_quantity\"]"
   ]
  },
  {
   "cell_type": "code",
   "execution_count": 35,
   "id": "89f96492-b9ee-4dbc-b122-d0fbf3e6d3b7",
   "metadata": {},
   "outputs": [
    {
     "data": {
      "text/html": [
       "<div>\n",
       "<style scoped>\n",
       "    .dataframe tbody tr th:only-of-type {\n",
       "        vertical-align: middle;\n",
       "    }\n",
       "\n",
       "    .dataframe tbody tr th {\n",
       "        vertical-align: top;\n",
       "    }\n",
       "\n",
       "    .dataframe thead th {\n",
       "        text-align: right;\n",
       "    }\n",
       "</style>\n",
       "<table border=\"1\" class=\"dataframe\">\n",
       "  <thead>\n",
       "    <tr style=\"text-align: right;\">\n",
       "      <th></th>\n",
       "      <th>journal</th>\n",
       "      <th>quantity</th>\n",
       "      <th>ill_quantity</th>\n",
       "      <th>result</th>\n",
       "    </tr>\n",
       "  </thead>\n",
       "  <tbody>\n",
       "    <tr>\n",
       "      <th>1</th>\n",
       "      <td>History Monthly</td>\n",
       "      <td>20</td>\n",
       "      <td>500</td>\n",
       "      <td>0.04</td>\n",
       "    </tr>\n",
       "    <tr>\n",
       "      <th>2</th>\n",
       "      <td>Zoology Today</td>\n",
       "      <td>700</td>\n",
       "      <td>1000</td>\n",
       "      <td>0.70</td>\n",
       "    </tr>\n",
       "    <tr>\n",
       "      <th>0</th>\n",
       "      <td>Anthropology Weekly</td>\n",
       "      <td>18</td>\n",
       "      <td>2</td>\n",
       "      <td>9.00</td>\n",
       "    </tr>\n",
       "  </tbody>\n",
       "</table>\n",
       "</div>"
      ],
      "text/plain": [
       "               journal  quantity  ill_quantity  result\n",
       "1      History Monthly        20           500    0.04\n",
       "2        Zoology Today       700          1000    0.70\n",
       "0  Anthropology Weekly        18             2    9.00"
      ]
     },
     "execution_count": 35,
     "metadata": {},
     "output_type": "execute_result"
    }
   ],
   "source": [
    "final_df.sort_values(\"result\")"
   ]
  },
  {
   "cell_type": "code",
   "execution_count": null,
   "id": "2e038122-76b5-4e5a-af67-1bf67fb277d0",
   "metadata": {},
   "outputs": [],
   "source": []
  }
 ],
 "metadata": {
  "kernelspec": {
   "display_name": "Python 3 (ipykernel)",
   "language": "python",
   "name": "python3"
  },
  "language_info": {
   "codemirror_mode": {
    "name": "ipython",
    "version": 3
   },
   "file_extension": ".py",
   "mimetype": "text/x-python",
   "name": "python",
   "nbconvert_exporter": "python",
   "pygments_lexer": "ipython3",
   "version": "3.8.5"
  }
 },
 "nbformat": 4,
 "nbformat_minor": 5
}
